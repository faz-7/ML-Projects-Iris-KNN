{
  "nbformat": 4,
  "nbformat_minor": 0,
  "metadata": {
    "colab": {
      "provenance": []
    },
    "kernelspec": {
      "name": "python3",
      "display_name": "Python 3"
    },
    "language_info": {
      "name": "python"
    }
  },
  "cells": [
    {
      "cell_type": "markdown",
      "source": [
        "**1. Importing Libraries**\n",
        "\n",
        "---"
      ],
      "metadata": {
        "id": "2p81E7SspVKY"
      }
    },
    {
      "cell_type": "code",
      "execution_count": 1,
      "metadata": {
        "id": "X1txiETIlLNx"
      },
      "outputs": [],
      "source": [
        "import numpy as np\n",
        "import pandas as pd\n",
        "import matplotlib.pyplot as plt\n",
        "from sklearn.metrics import accuracy_score"
      ]
    },
    {
      "cell_type": "markdown",
      "source": [
        "**2. Loading Data**"
      ],
      "metadata": {
        "id": "baUlQLWDpfAS"
      }
    },
    {
      "cell_type": "code",
      "source": [
        "train_data = pd.read_csv('/content/train.csv')\n",
        "test_data = pd.read_csv('/content/test.csv')"
      ],
      "metadata": {
        "id": "7yM9UOtwpjDF"
      },
      "execution_count": 2,
      "outputs": []
    },
    {
      "cell_type": "markdown",
      "source": [
        "**3. Preparing Data**"
      ],
      "metadata": {
        "id": "OrYXTZmFplua"
      }
    },
    {
      "cell_type": "code",
      "source": [
        "features = ['PetalLengthCm', 'PetalWidthCm']\n",
        "\n",
        "X_train = train_data[features].values\n",
        "y_train = train_data['Species'].values\n",
        "\n",
        "X_test = test_data[features].values\n",
        "true_labels = test_data['Species']"
      ],
      "metadata": {
        "id": "ipz_CqUCp963"
      },
      "execution_count": 3,
      "outputs": []
    },
    {
      "cell_type": "markdown",
      "source": [
        "**4. Defining the Euclidean Distance Function**"
      ],
      "metadata": {
        "id": "TD9fjO8eqLHM"
      }
    },
    {
      "cell_type": "code",
      "source": [
        "def euclidean_distance(point1, point2):\n",
        "    return np.sqrt(np.sum((point1 - point2) ** 2))"
      ],
      "metadata": {
        "id": "5klX893gqye-"
      },
      "execution_count": 4,
      "outputs": []
    },
    {
      "cell_type": "markdown",
      "source": [
        "**5. Defining the K-Nearest Neighbors Algorithm**"
      ],
      "metadata": {
        "id": "Km6iMXR-q5Wt"
      }
    },
    {
      "cell_type": "code",
      "source": [
        "def k_nearest_neighbors(X_train, y_train, X_test, k=3):\n",
        "    predictions = []\n",
        "\n",
        "    for test_point in X_test:\n",
        "        # Calculate distances from the test point to all training points\n",
        "        distances = [(euclidean_distance(test_point, train_point), label)\n",
        "                     for train_point, label in zip(X_train, y_train)]\n",
        "\n",
        "        # Sort distances and get the k nearest labels\n",
        "        sorted_distances = sorted(distances, key=lambda x: x[0])\n",
        "        k_nearest_labels = [label for (_, label) in sorted_distances[:k]]\n",
        "\n",
        "        # Predict the most common label among the k nearest labels\n",
        "        prediction = max(set(k_nearest_labels), key=k_nearest_labels.count)\n",
        "        predictions.append(prediction)\n",
        "\n",
        "    return predictions\n",
        "\n",
        "k_value = 3\n",
        "predicted_labels = k_nearest_neighbors(X_train, y_train, X_test, k=k_value)"
      ],
      "metadata": {
        "id": "bZyQoRKeq86L"
      },
      "execution_count": 5,
      "outputs": []
    },
    {
      "cell_type": "markdown",
      "source": [
        "**6. Calculating Accuracy**"
      ],
      "metadata": {
        "id": "lzRArpl0rDmg"
      }
    },
    {
      "cell_type": "code",
      "source": [
        "accuracy = accuracy_score(true_labels, predicted_labels)\n",
        "print(f'Accuracy: {accuracy:.2%}')"
      ],
      "metadata": {
        "colab": {
          "base_uri": "https://localhost:8080/"
        },
        "id": "aPlrvG23rO26",
        "outputId": "fc3ddf6d-fc65-415e-a4e2-708a2f4db526"
      },
      "execution_count": 6,
      "outputs": [
        {
          "output_type": "stream",
          "name": "stdout",
          "text": [
            "Accuracy: 90.00%\n"
          ]
        }
      ]
    },
    {
      "cell_type": "markdown",
      "source": [
        "**7. Visualization**"
      ],
      "metadata": {
        "id": "x0MR58mZrRdY"
      }
    },
    {
      "cell_type": "code",
      "source": [
        "# Extracting unique class names for coloring\n",
        "class_names = train_data['Species'].unique()\n",
        "colors = {class_name: color for class_name, color in zip(class_names, ['blue', 'green', 'orange'])}\n",
        "\n",
        "# Plotting\n",
        "plt.figure(figsize=(8, 6))\n",
        "\n",
        "# Plotting each class\n",
        "for class_name in class_names:\n",
        "    class_data = test_data[test_data['Species'] == class_name]\n",
        "    plt.scatter(class_data['PetalLengthCm'], class_data['PetalWidthCm'],\n",
        "                c=colors[class_name], label=class_name)\n",
        "\n",
        "# Plotting predicted points\n",
        "for i, label in enumerate(predicted_labels):\n",
        "    plt.scatter(X_test[i, 0], X_test[i, 1],\n",
        "                c=colors[label], marker='x', s=100, linewidths=2)\n",
        "\n",
        "# Customizing the plot\n",
        "plt.gca().set_facecolor('lightgrey')\n",
        "plt.title('Petal Length vs Width')\n",
        "plt.xlabel('Petal Length (cm)')\n",
        "plt.ylabel('Petal Width (cm)')\n",
        "plt.legend()\n",
        "plt.grid(color='white')\n",
        "plt.show()"
      ],
      "metadata": {
        "colab": {
          "base_uri": "https://localhost:8080/",
          "height": 564
        },
        "id": "ZrkiGUxqrVmN",
        "outputId": "d60aa727-afc9-4882-8b98-b45696875825"
      },
      "execution_count": 7,
      "outputs": [
        {
          "output_type": "display_data",
          "data": {
            "text/plain": [
              "<Figure size 800x600 with 1 Axes>"
            ],
            "image/png": "[encoded data removed]"
          },
          "metadata": {}
        }
      ]
    }
  ]
}